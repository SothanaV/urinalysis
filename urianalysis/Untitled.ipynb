{
 "cells": [
  {
   "cell_type": "code",
   "execution_count": 1,
   "metadata": {},
   "outputs": [
    {
     "name": "stdout",
     "output_type": "stream",
     "text": [
      "Line Solution is y = -0.500000000000001x + 5.500000000000003\n"
     ]
    }
   ],
   "source": [
    "from numpy import ones,vstack\n",
    "from numpy.linalg import lstsq\n",
    "points = [(1,5),(3,4)]\n",
    "x_coords, y_coords = zip(*points)\n",
    "A = vstack([x_coords,ones(len(x_coords))]).T\n",
    "m, c = lstsq(A, y_coords)[0]\n",
    "print(\"Line Solution is y = {m}x + {c}\".format(m=m,c=c))"
   ]
  },
  {
   "cell_type": "code",
   "execution_count": 7,
   "metadata": {
    "collapsed": true
   },
   "outputs": [],
   "source": [
    "points = []\n",
    "read = [4.0, 23.0, 44.0, 64.0, 86.0, 106.0, 126.0, 146.0, 167.0, 186.0, 207.0, 227.0, 246.0, 265.0, 286.0, 306.0, 326.0, 345.0, 364.0, 386.0, 407.0, 428.0, 448.0, 468.0, 489.0, 509.0, 529.0, 550.0, 568.0, 588.0, 609.0, 630.0, 649.0, 669.0, 688.0, 708.0, 729.0, 749.0, 769.0, 789.0, 810.0, 831.0, 851.0, 870.0, 891.0, 911.0, 930.0, 950.0, 970.0, 989.0, 1009.0, 1029.0, 1048.0, 1070.0, 1090.0, 1111.0, 1129.0, 1148.0, 1169.0, 1189.0, 1209.0, 1228.0, 1250.0, 1271.0, 1289.0, 1310.0, 1330.0, 1351.0, 1370.0, 1389.0, 1410.0, 1430.0, 1447.0, 1467.0, 1488.0, 1509.0, 1528.0, 1549.0, 1567.0, 1586.0, 1607.0, 1628.0, 1648.0, 1668.0, 1689.0, 1708.0, 1729.0, 1749.0, 1767.0, 1787.0, 1807.0, 1828.0, 1848.0, 1866.0, 1888.0, 1907.0, 1927.0, 1950.0, 1969.0, 1989.0, 2008.0, 2029.0, 2050.0, 2072.0, 2090.0, 2110.0, 2131.0, 2151.0, 2170.0, 2191.0, 2213.0, 2230.0, 2250.0, 2271.0, 2292.0, 2313.0, 2331.0, 2350.0, 2373.0, 2391.0, 2415.0, 2435.0, 2455.0, 2475.0, 2495.0, 2518.0, 2538.0, 2557.0, 2575.0, 2595.0, 2617.0, 2636.0, 2657.0, 2678.0, 2698.0, 2717.0, 2739.0, 2756.0, 2774.0, 2797.0, 2818.0, 2836.0, 2857.0, 2879.0, 2898.0, 2919.0, 2942.0, 2960.0, 2980.0, 2998.0, 3018.0, 3041.0, 3060.0, 3079.0, 3099.0, 3119.0, 3139.0, 3159.0, 3182.0, 3201.0, 3220.0, 3242.0, 3262.0, 3279.0, 3292.0]\n",
    "write = [0.0, 20.0, 40.0, 60.0, 80.0, 100.0, 120.0, 140.0, 160.0, 180.0, 200.0, 220.0, 240.0, 260.0, 280.0, 300.0, 320.0, 340.0, 360.0, 380.0, 400.0, 420.0, 440.0, 460.0, 480.0, 500.0, 520.0, 540.0, 560.0, 580.0, 600.0, 620.0, 640.0, 660.0, 680.0, 700.0, 720.0, 740.0, 760.0, 780.0, 800.0, 820.0, 840.0, 860.0, 880.0, 900.0, 920.0, 940.0, 960.0, 980.0, 1000.0, 1020.0, 1040.0, 1060.0, 1080.0, 1100.0, 1120.0, 1140.0, 1160.0, 1180.0, 1200.0, 1220.0, 1240.0, 1260.0, 1280.0, 1300.0, 1320.0, 1340.0, 1360.0, 1380.0, 1400.0, 1420.0, 1440.0, 1460.0, 1480.0, 1500.0, 1520.0, 1540.0, 1560.0, 1580.0, 1600.0, 1620.0, 1640.0, 1660.0, 1680.0, 1700.0, 1720.0, 1740.0, 1760.0, 1780.0, 1800.0, 1820.0, 1840.0, 1860.0, 1880.0, 1900.0, 1920.0, 1940.0, 1960.0, 1980.0, 2000.0, 2020.0, 2040.0, 2060.0, 2080.0, 2100.0, 2120.0, 2140.0, 2160.0, 2180.0, 2200.0, 2220.0, 2240.0, 2260.0, 2280.0, 2300.0, 2320.0, 2340.0, 2360.0, 2380.0, 2400.0, 2420.0, 2440.0, 2460.0, 2480.0, 2500.0, 2520.0, 2540.0, 2560.0, 2580.0, 2600.0, 2620.0, 2640.0, 2660.0, 2680.0, 2700.0, 2720.0, 2740.0, 2760.0, 2780.0, 2800.0, 2820.0, 2840.0, 2860.0, 2880.0, 2900.0, 2920.0, 2940.0, 2960.0, 2980.0, 3000.0, 3020.0, 3040.0, 3060.0, 3080.0, 3100.0, 3120.0, 3140.0, 3160.0, 3180.0, 3200.0, 3220.0, 3240.0, 3260.0, 3280.0]\n",
    "dac = [0.0, 24.0, 49.0, 74.0, 99.0, 124.0, 148.0, 173.0, 198.0, 223.0, 248.0, 273.0, 297.0, 322.0, 347.0, 372.0, 397.0, 421.0, 446.0, 471.0, 496.0, 521.0, 546.0, 570.0, 595.0, 620.0, 645.0, 670.0, 694.0, 719.0, 744.0, 769.0, 794.0, 819.0, 843.0, 868.0, 893.0, 918.0, 943.0, 967.0, 992.0, 1017.0, 1042.0, 1067.0, 1092.0, 1116.0, 1141.0, 1166.0, 1191.0, 1216.0, 1240.0, 1265.0, 1290.0, 1315.0, 1340.0, 1365.0, 1389.0, 1414.0, 1439.0, 1464.0, 1489.0, 1513.0, 1538.0, 1563.0, 1588.0, 1613.0, 1638.0, 1662.0, 1687.0, 1712.0, 1737.0, 1762.0, 1786.0, 1811.0, 1836.0, 1861.0, 1886.0, 1911.0, 1935.0, 1960.0, 1985.0, 2010.0, 2035.0, 2059.0, 2084.0, 2109.0, 2134.0, 2159.0, 2184.0, 2208.0, 2233.0, 2258.0, 2283.0, 2308.0, 2332.0, 2357.0, 2382.0, 2407.0, 2432.0, 2457.0, 2481.0, 2506.0, 2531.0, 2556.0, 2581.0, 2605.0, 2630.0, 2655.0, 2680.0, 2705.0, 2730.0, 2754.0, 2779.0, 2804.0, 2829.0, 2854.0, 2878.0, 2903.0, 2928.0, 2953.0, 2978.0, 3003.0, 3027.0, 3052.0, 3077.0, 3102.0, 3127.0, 3151.0, 3176.0, 3201.0, 3226.0, 3251.0, 3276.0, 3300.0, 3325.0, 3350.0, 3375.0, 3400.0, 3424.0, 3449.0, 3474.0, 3499.0, 3524.0, 3549.0, 3573.0, 3598.0, 3623.0, 3648.0, 3673.0, 3697.0, 3722.0, 3747.0, 3772.0, 3797.0, 3822.0, 3846.0, 3871.0, 3896.0, 3921.0, 3946.0, 3970.0, 3995.0, 4020.0, 4045.0, 4070.0]"
   ]
  },
  {
   "cell_type": "code",
   "execution_count": 8,
   "metadata": {},
   "outputs": [
    {
     "data": {
      "text/plain": [
       "165"
      ]
     },
     "execution_count": 8,
     "metadata": {},
     "output_type": "execute_result"
    }
   ],
   "source": [
    "len(read)\n",
    "len(write)\n",
    "len(dac)"
   ]
  },
  {
   "cell_type": "code",
   "execution_count": 13,
   "metadata": {},
   "outputs": [],
   "source": [
    "points = []\n",
    "for i in range(165):\n",
    "    x = read[i]\n",
    "    y = write[i]\n",
    "    r = (x,y)\n",
    "    #print(r)\n",
    "    points.append(r)"
   ]
  },
  {
   "cell_type": "code",
   "execution_count": 15,
   "metadata": {},
   "outputs": [
    {
     "name": "stdout",
     "output_type": "stream",
     "text": [
      "[(4.0, 0.0), (23.0, 20.0), (44.0, 40.0), (64.0, 60.0), (86.0, 80.0), (106.0, 100.0), (126.0, 120.0), (146.0, 140.0), (167.0, 160.0), (186.0, 180.0), (207.0, 200.0), (227.0, 220.0), (246.0, 240.0), (265.0, 260.0), (286.0, 280.0), (306.0, 300.0), (326.0, 320.0), (345.0, 340.0), (364.0, 360.0), (386.0, 380.0), (407.0, 400.0), (428.0, 420.0), (448.0, 440.0), (468.0, 460.0), (489.0, 480.0), (509.0, 500.0), (529.0, 520.0), (550.0, 540.0), (568.0, 560.0), (588.0, 580.0), (609.0, 600.0), (630.0, 620.0), (649.0, 640.0), (669.0, 660.0), (688.0, 680.0), (708.0, 700.0), (729.0, 720.0), (749.0, 740.0), (769.0, 760.0), (789.0, 780.0), (810.0, 800.0), (831.0, 820.0), (851.0, 840.0), (870.0, 860.0), (891.0, 880.0), (911.0, 900.0), (930.0, 920.0), (950.0, 940.0), (970.0, 960.0), (989.0, 980.0), (1009.0, 1000.0), (1029.0, 1020.0), (1048.0, 1040.0), (1070.0, 1060.0), (1090.0, 1080.0), (1111.0, 1100.0), (1129.0, 1120.0), (1148.0, 1140.0), (1169.0, 1160.0), (1189.0, 1180.0), (1209.0, 1200.0), (1228.0, 1220.0), (1250.0, 1240.0), (1271.0, 1260.0), (1289.0, 1280.0), (1310.0, 1300.0), (1330.0, 1320.0), (1351.0, 1340.0), (1370.0, 1360.0), (1389.0, 1380.0), (1410.0, 1400.0), (1430.0, 1420.0), (1447.0, 1440.0), (1467.0, 1460.0), (1488.0, 1480.0), (1509.0, 1500.0), (1528.0, 1520.0), (1549.0, 1540.0), (1567.0, 1560.0), (1586.0, 1580.0), (1607.0, 1600.0), (1628.0, 1620.0), (1648.0, 1640.0), (1668.0, 1660.0), (1689.0, 1680.0), (1708.0, 1700.0), (1729.0, 1720.0), (1749.0, 1740.0), (1767.0, 1760.0), (1787.0, 1780.0), (1807.0, 1800.0), (1828.0, 1820.0), (1848.0, 1840.0), (1866.0, 1860.0), (1888.0, 1880.0), (1907.0, 1900.0), (1927.0, 1920.0), (1950.0, 1940.0), (1969.0, 1960.0), (1989.0, 1980.0), (2008.0, 2000.0), (2029.0, 2020.0), (2050.0, 2040.0), (2072.0, 2060.0), (2090.0, 2080.0), (2110.0, 2100.0), (2131.0, 2120.0), (2151.0, 2140.0), (2170.0, 2160.0), (2191.0, 2180.0), (2213.0, 2200.0), (2230.0, 2220.0), (2250.0, 2240.0), (2271.0, 2260.0), (2292.0, 2280.0), (2313.0, 2300.0), (2331.0, 2320.0), (2350.0, 2340.0), (2373.0, 2360.0), (2391.0, 2380.0), (2415.0, 2400.0), (2435.0, 2420.0), (2455.0, 2440.0), (2475.0, 2460.0), (2495.0, 2480.0), (2518.0, 2500.0), (2538.0, 2520.0), (2557.0, 2540.0), (2575.0, 2560.0), (2595.0, 2580.0), (2617.0, 2600.0), (2636.0, 2620.0), (2657.0, 2640.0), (2678.0, 2660.0), (2698.0, 2680.0), (2717.0, 2700.0), (2739.0, 2720.0), (2756.0, 2740.0), (2774.0, 2760.0), (2797.0, 2780.0), (2818.0, 2800.0), (2836.0, 2820.0), (2857.0, 2840.0), (2879.0, 2860.0), (2898.0, 2880.0), (2919.0, 2900.0), (2942.0, 2920.0), (2960.0, 2940.0), (2980.0, 2960.0), (2998.0, 2980.0), (3018.0, 3000.0), (3041.0, 3020.0), (3060.0, 3040.0), (3079.0, 3060.0), (3099.0, 3080.0), (3119.0, 3100.0), (3139.0, 3120.0), (3159.0, 3140.0), (3182.0, 3160.0), (3201.0, 3180.0), (3220.0, 3200.0), (3242.0, 3220.0), (3262.0, 3240.0), (3279.0, 3260.0), (3292.0, 3280.0)]\n"
     ]
    }
   ],
   "source": [
    "print(points)"
   ]
  },
  {
   "cell_type": "code",
   "execution_count": 16,
   "metadata": {},
   "outputs": [
    {
     "name": "stdout",
     "output_type": "stream",
     "text": [
      "Line Solution is y = 0.9959084820121278x + -4.377691599624634\n"
     ]
    }
   ],
   "source": [
    "x_coords, y_coords = zip(*points)\n",
    "A = vstack([x_coords,ones(len(x_coords))]).T\n",
    "m, c = lstsq(A, y_coords)[0]\n",
    "print(\"Line Solution is y = {m}x + {c}\".format(m=m,c=c))\n",
    "'''\n",
    "x = read y =write\n",
    "'''"
   ]
  },
  {
   "cell_type": "code",
   "execution_count": 17,
   "metadata": {},
   "outputs": [
    {
     "name": "stdout",
     "output_type": "stream",
     "text": [
      "Line Solution is y = 0.8058607581997099x + 0.3663973392989985\n"
     ]
    },
    {
     "data": {
      "text/plain": [
       "'\\nx = dac y =write\\n'"
      ]
     },
     "execution_count": 17,
     "metadata": {},
     "output_type": "execute_result"
    }
   ],
   "source": [
    "points = []\n",
    "for i in range(165):\n",
    "    x = dac[i]\n",
    "    y = write[i]\n",
    "    r = (x,y)\n",
    "    #print(r)\n",
    "    points.append(r)\n",
    "x_coords, y_coords = zip(*points)\n",
    "A = vstack([x_coords,ones(len(x_coords))]).T\n",
    "m, c = lstsq(A, y_coords)[0]\n",
    "print(\"Line Solution is y = {m}x + {c}\".format(m=m,c=c))\n",
    "'''\n",
    "x = dac y =write\n",
    "'''"
   ]
  },
  {
   "cell_type": "code",
   "execution_count": 18,
   "metadata": {
    "collapsed": true
   },
   "outputs": [],
   "source": [
    "import matplotlib.pyplot as plt"
   ]
  },
  {
   "cell_type": "code",
   "execution_count": 20,
   "metadata": {},
   "outputs": [
    {
     "data": {
      "image/png": "[encoded data removed]",
      "text/plain": [
       "<matplotlib.figure.Figure at 0x21b38a22c18>"
      ]
     },
     "metadata": {},
     "output_type": "display_data"
    }
   ],
   "source": [
    "plt.plot(points)\n",
    "plt.show()"
   ]
  },
  {
   "cell_type": "code",
   "execution_count": 21,
   "metadata": {
    "collapsed": true
   },
   "outputs": [],
   "source": [
    "y = 0.9959084820121278"
   ]
  },
  {
   "cell_type": "code",
   "execution_count": 23,
   "metadata": {},
   "outputs": [
    {
     "data": {
      "text/plain": [
       "'0.996'"
      ]
     },
     "execution_count": 23,
     "metadata": {},
     "output_type": "execute_result"
    }
   ],
   "source": [
    "format(y,'.3f')"
   ]
  },
  {
   "cell_type": "code",
   "execution_count": null,
   "metadata": {
    "collapsed": true
   },
   "outputs": [],
   "source": []
  }
 ],
 "metadata": {
  "kernelspec": {
   "display_name": "Python 3",
   "language": "python",
   "name": "python3"
  },
  "language_info": {
   "codemirror_mode": {
    "name": "ipython",
    "version": 3
   },
   "file_extension": ".py",
   "mimetype": "text/x-python",
   "name": "python",
   "nbconvert_exporter": "python",
   "pygments_lexer": "ipython3",
   "version": "3.6.3"
  }
 },
 "nbformat": 4,
 "nbformat_minor": 2
}
