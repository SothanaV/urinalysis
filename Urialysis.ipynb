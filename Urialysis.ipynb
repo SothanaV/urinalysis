{
 "cells": [
  {
   "cell_type": "code",
   "execution_count": 66,
   "metadata": {},
   "outputs": [
    {
     "name": "stdout",
     "output_type": "stream",
     "text": [
      "(1, 2, 3, 4, 5, 6, 7, 8, 9, 10)\n",
      "(1, 2, 3, 4, 5, 6, 7, 8, 9, 10)\n"
     ]
    }
   ],
   "source": [
    "v = 1,2,3,4,5,6,7,8,9,10\n",
    "print(v)\n",
    "v = str(v)\n",
    "print(v)"
   ]
  },
  {
   "cell_type": "code",
   "execution_count": 67,
   "metadata": {
    "collapsed": true
   },
   "outputs": [],
   "source": [
    "vs = v.split(',')"
   ]
  },
  {
   "cell_type": "code",
   "execution_count": 68,
   "metadata": {},
   "outputs": [
    {
     "name": "stdout",
     "output_type": "stream",
     "text": [
      "['(1', ' 2', ' 3', ' 4', ' 5', ' 6', ' 7', ' 8', ' 9', ' 10)']\n"
     ]
    }
   ],
   "source": [
    "print(vs)"
   ]
  },
  {
   "cell_type": "code",
   "execution_count": 69,
   "metadata": {},
   "outputs": [
    {
     "data": {
      "text/plain": [
       "'(1'"
      ]
     },
     "execution_count": 69,
     "metadata": {},
     "output_type": "execute_result"
    }
   ],
   "source": [
    "vs[0]"
   ]
  },
  {
   "cell_type": "code",
   "execution_count": 74,
   "metadata": {},
   "outputs": [
    {
     "name": "stdout",
     "output_type": "stream",
     "text": [
      "10\n"
     ]
    }
   ],
   "source": [
    "\n",
    "num = len(vs)\n",
    "print(num)"
   ]
  },
  {
   "cell_type": "code",
   "execution_count": 78,
   "metadata": {},
   "outputs": [
    {
     "name": "stdout",
     "output_type": "stream",
     "text": [
      "i 0\n",
      "r (1\n",
      "i2 0\n",
      "i2 1\n",
      "i2 2\n",
      "i2 3\n",
      "i2 4\n",
      "i2 5\n",
      "i2 6\n",
      "i2 7\n",
      "i2 8\n",
      "i2 9\n",
      "i 1\n",
      "r  2\n",
      "i2 0\n",
      "i2 1\n",
      "i2 2\n",
      "i2 3\n",
      "i2 4\n",
      "i2 5\n",
      "i2 6\n",
      "i2 7\n",
      "i2 8\n",
      "i2 9\n",
      "i 2\n",
      "r  3\n",
      "i2 0\n",
      "i2 1\n",
      "i2 2\n",
      "i2 3\n",
      "i2 4\n",
      "i2 5\n",
      "i2 6\n",
      "i2 7\n",
      "i2 8\n",
      "i2 9\n",
      "i 3\n",
      "r  4\n",
      "i2 0\n",
      "i2 1\n",
      "i2 2\n",
      "i2 3\n",
      "i2 4\n",
      "i2 5\n",
      "i2 6\n",
      "i2 7\n",
      "i2 8\n",
      "i2 9\n",
      "i 4\n",
      "r  5\n",
      "i2 0\n",
      "i2 1\n",
      "i2 2\n",
      "i2 3\n",
      "i2 4\n",
      "i2 5\n",
      "i2 6\n",
      "i2 7\n",
      "i2 8\n",
      "i2 9\n",
      "i 5\n",
      "r  6\n",
      "i2 0\n",
      "i2 1\n",
      "i2 2\n",
      "i2 3\n",
      "i2 4\n",
      "i2 5\n",
      "i2 6\n",
      "i2 7\n",
      "i2 8\n",
      "i2 9\n",
      "i 6\n",
      "r  7\n",
      "i2 0\n",
      "i2 1\n",
      "i2 2\n",
      "i2 3\n",
      "i2 4\n",
      "i2 5\n",
      "i2 6\n",
      "i2 7\n",
      "i2 8\n",
      "i2 9\n",
      "i 7\n",
      "r  8\n",
      "i2 0\n",
      "i2 1\n",
      "i2 2\n",
      "i2 3\n",
      "i2 4\n",
      "i2 5\n",
      "i2 6\n",
      "i2 7\n",
      "i2 8\n",
      "i2 9\n",
      "i 8\n",
      "r  9\n",
      "i2 0\n",
      "i2 1\n",
      "i2 2\n",
      "i2 3\n",
      "i2 4\n",
      "i2 5\n",
      "i2 6\n",
      "i2 7\n",
      "i2 8\n",
      "i2 9\n",
      "i 9\n",
      "r  10)\n",
      "i2 0\n",
      "i2 1\n",
      "i2 2\n",
      "i2 3\n",
      "i2 4\n",
      "i2 5\n",
      "i2 6\n",
      "i2 7\n",
      "i2 8\n",
      "i2 9\n",
      "{10: ' 10)'}\n"
     ]
    }
   ],
   "source": [
    "v1 = {}\n",
    "for i in range(num):\n",
    "    r = vs[i]\n",
    "    print('i',i)\n",
    "    print('r',r)\n",
    "    #v1.append('v:'+r)\n",
    "    for i in range(num):\n",
    "        print('i2',i)\n",
    "        v1[num] = r\n",
    "print(v1)"
   ]
  },
  {
   "cell_type": "code",
   "execution_count": 65,
   "metadata": {
    "collapsed": true
   },
   "outputs": [],
   "source": [
    "import flask"
   ]
  },
  {
   "cell_type": "code",
   "execution_count": 90,
   "metadata": {},
   "outputs": [
    {
     "ename": "IndentationError",
     "evalue": "unexpected indent (<ipython-input-90-b45e781d5a02>, line 4)",
     "output_type": "error",
     "traceback": [
      "\u001b[1;36m  File \u001b[1;32m\"<ipython-input-90-b45e781d5a02>\"\u001b[1;36m, line \u001b[1;32m4\u001b[0m\n\u001b[1;33m    for i in range(num):\u001b[0m\n\u001b[1;37m    ^\u001b[0m\n\u001b[1;31mIndentationError\u001b[0m\u001b[1;31m:\u001b[0m unexpected indent\n"
     ]
    }
   ],
   "source": [
    "v1 = {}\n",
    "for i in range(num):\n",
    "    print('i2',i)\n",
    "    for i in range(num):\n",
    "        r = vs[i]\n",
    "        print('i',i)\n",
    "        print('r',r)\n",
    "        #v1['v'] = r\n",
    "        v1.update({v:r})\n",
    "print(v1)"
   ]
  },
  {
   "cell_type": "code",
   "execution_count": 97,
   "metadata": {},
   "outputs": [
    {
     "name": "stdout",
     "output_type": "stream",
     "text": [
      "i 0\n",
      "r (1\n"
     ]
    },
    {
     "ename": "TypeError",
     "evalue": "must be str, not int",
     "output_type": "error",
     "traceback": [
      "\u001b[1;31m---------------------------------------------------------------------------\u001b[0m",
      "\u001b[1;31mTypeError\u001b[0m                                 Traceback (most recent call last)",
      "\u001b[1;32m<ipython-input-97-92dcb25fdb1d>\u001b[0m in \u001b[0;36m<module>\u001b[1;34m()\u001b[0m\n\u001b[0;32m      6\u001b[0m         \u001b[0mv1\u001b[0m\u001b[1;33m.\u001b[0m\u001b[0mupdate\u001b[0m\u001b[1;33m(\u001b[0m\u001b[1;33m{\u001b[0m\u001b[0mv\u001b[0m\u001b[1;33m:\u001b[0m\u001b[0mr\u001b[0m\u001b[1;33m}\u001b[0m\u001b[1;33m)\u001b[0m\u001b[1;33m\u001b[0m\u001b[0m\n\u001b[0;32m      7\u001b[0m         \u001b[0mq\u001b[0m\u001b[1;33m=\u001b[0m \u001b[1;33m{\u001b[0m\u001b[1;33m}\u001b[0m\u001b[1;33m\u001b[0m\u001b[0m\n\u001b[1;32m----> 8\u001b[1;33m         \u001b[0mq\u001b[0m\u001b[1;33m.\u001b[0m\u001b[0mappend\u001b[0m \u001b[1;33m=\u001b[0m \u001b[1;33m{\u001b[0m\u001b[1;34m'v'\u001b[0m\u001b[1;33m+\u001b[0m\u001b[0mi\u001b[0m\u001b[1;33m:\u001b[0m\u001b[0mr\u001b[0m\u001b[1;33m}\u001b[0m\u001b[1;33m\u001b[0m\u001b[0m\n\u001b[0m\u001b[0;32m      9\u001b[0m \u001b[1;33m\u001b[0m\u001b[0m\n\u001b[0;32m     10\u001b[0m \u001b[0mprint\u001b[0m\u001b[1;33m(\u001b[0m\u001b[0mq\u001b[0m\u001b[1;33m)\u001b[0m\u001b[1;33m\u001b[0m\u001b[0m\n",
      "\u001b[1;31mTypeError\u001b[0m: must be str, not int"
     ]
    }
   ],
   "source": [
    "for i in range(num):\n",
    "        r = vs[i]\n",
    "        print('i',i)\n",
    "        print('r',r)\n",
    "        #v1['v'] = r\n",
    "        v1.update({v:r})\n",
    "        q= {}\n",
    "        q.append = {'v'+i:r}\n",
    "\n",
    "print(q)"
   ]
  },
  {
   "cell_type": "code",
   "execution_count": 9,
   "metadata": {},
   "outputs": [
    {
     "name": "stdout",
     "output_type": "stream",
     "text": [
      "['1', '2', '3', '4', '5', '6', '7', '8', '9', '10']\n"
     ]
    }
   ],
   "source": [
    "x =\"1,2,3,4,5,6,7,8,9,10\"\n",
    "y=x.split(',')\n",
    "print(y)"
   ]
  },
  {
   "cell_type": "code",
   "execution_count": null,
   "metadata": {
    "collapsed": true
   },
   "outputs": [],
   "source": []
  }
 ],
 "metadata": {
  "kernelspec": {
   "display_name": "Python 3",
   "language": "python",
   "name": "python3"
  },
  "language_info": {
   "codemirror_mode": {
    "name": "ipython",
    "version": 3
   },
   "file_extension": ".py",
   "mimetype": "text/x-python",
   "name": "python",
   "nbconvert_exporter": "python",
   "pygments_lexer": "ipython3",
   "version": "3.6.3"
  }
 },
 "nbformat": 4,
 "nbformat_minor": 2
}
