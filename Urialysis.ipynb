{
 "cells": [
  {
   "cell_type": "code",
   "execution_count": 66,
   "metadata": {},
   "outputs": [
    {
     "name": "stdout",
     "output_type": "stream",
     "text": [
      "(1, 2, 3, 4, 5, 6, 7, 8, 9, 10)\n",
      "(1, 2, 3, 4, 5, 6, 7, 8, 9, 10)\n"
     ]
    }
   ],
   "source": [
    "v = 1,2,3,4,5,6,7,8,9,10\n",
    "print(v)\n",
    "v = str(v)\n",
    "print(v)"
   ]
  },
  {
   "cell_type": "code",
   "execution_count": 67,
   "metadata": {
    "collapsed": true
   },
   "outputs": [],
   "source": [
    "vs = v.split(',')"
   ]
  },
  {
   "cell_type": "code",
   "execution_count": 68,
   "metadata": {},
   "outputs": [
    {
     "name": "stdout",
     "output_type": "stream",
     "text": [
      "['(1', ' 2', ' 3', ' 4', ' 5', ' 6', ' 7', ' 8', ' 9', ' 10)']\n"
     ]
    }
   ],
   "source": [
    "print(vs)"
   ]
  },
  {
   "cell_type": "code",
   "execution_count": 69,
   "metadata": {},
   "outputs": [
    {
     "data": {
      "text/plain": [
       "'(1'"
      ]
     },
     "execution_count": 69,
     "metadata": {},
     "output_type": "execute_result"
    }
   ],
   "source": [
    "vs[0]"
   ]
  },
  {
   "cell_type": "code",
   "execution_count": 74,
   "metadata": {},
   "outputs": [
    {
     "name": "stdout",
     "output_type": "stream",
     "text": [
      "10\n"
     ]
    }
   ],
   "source": [
    "\n",
    "num = len(vs)\n",
    "print(num)"
   ]
  },
  {
   "cell_type": "code",
   "execution_count": 78,
   "metadata": {},
   "outputs": [
    {
     "name": "stdout",
     "output_type": "stream",
     "text": [
      "i 0\n",
      "r (1\n",
      "i2 0\n",
      "i2 1\n",
      "i2 2\n",
      "i2 3\n",
      "i2 4\n",
      "i2 5\n",
      "i2 6\n",
      "i2 7\n",
      "i2 8\n",
      "i2 9\n",
      "i 1\n",
      "r  2\n",
      "i2 0\n",
      "i2 1\n",
      "i2 2\n",
      "i2 3\n",
      "i2 4\n",
      "i2 5\n",
      "i2 6\n",
      "i2 7\n",
      "i2 8\n",
      "i2 9\n",
      "i 2\n",
      "r  3\n",
      "i2 0\n",
      "i2 1\n",
      "i2 2\n",
      "i2 3\n",
      "i2 4\n",
      "i2 5\n",
      "i2 6\n",
      "i2 7\n",
      "i2 8\n",
      "i2 9\n",
      "i 3\n",
      "r  4\n",
      "i2 0\n",
      "i2 1\n",
      "i2 2\n",
      "i2 3\n",
      "i2 4\n",
      "i2 5\n",
      "i2 6\n",
      "i2 7\n",
      "i2 8\n",
      "i2 9\n",
      "i 4\n",
      "r  5\n",
      "i2 0\n",
      "i2 1\n",
      "i2 2\n",
      "i2 3\n",
      "i2 4\n",
      "i2 5\n",
      "i2 6\n",
      "i2 7\n",
      "i2 8\n",
      "i2 9\n",
      "i 5\n",
      "r  6\n",
      "i2 0\n",
      "i2 1\n",
      "i2 2\n",
      "i2 3\n",
      "i2 4\n",
      "i2 5\n",
      "i2 6\n",
      "i2 7\n",
      "i2 8\n",
      "i2 9\n",
      "i 6\n",
      "r  7\n",
      "i2 0\n",
      "i2 1\n",
      "i2 2\n",
      "i2 3\n",
      "i2 4\n",
      "i2 5\n",
      "i2 6\n",
      "i2 7\n",
      "i2 8\n",
      "i2 9\n",
      "i 7\n",
      "r  8\n",
      "i2 0\n",
      "i2 1\n",
      "i2 2\n",
      "i2 3\n",
      "i2 4\n",
      "i2 5\n",
      "i2 6\n",
      "i2 7\n",
      "i2 8\n",
      "i2 9\n",
      "i 8\n",
      "r  9\n",
      "i2 0\n",
      "i2 1\n",
      "i2 2\n",
      "i2 3\n",
      "i2 4\n",
      "i2 5\n",
      "i2 6\n",
      "i2 7\n",
      "i2 8\n",
      "i2 9\n",
      "i 9\n",
      "r  10)\n",
      "i2 0\n",
      "i2 1\n",
      "i2 2\n",
      "i2 3\n",
      "i2 4\n",
      "i2 5\n",
      "i2 6\n",
      "i2 7\n",
      "i2 8\n",
      "i2 9\n",
      "{10: ' 10)'}\n"
     ]
    }
   ],
   "source": [
    "v1 = {}\n",
    "for i in range(num):\n",
    "    r = vs[i]\n",
    "    print('i',i)\n",
    "    print('r',r)\n",
    "    #v1.append('v:'+r)\n",
    "    for i in range(num):\n",
    "        print('i2',i)\n",
    "        v1[num] = r\n",
    "print(v1)"
   ]
  },
  {
   "cell_type": "code",
   "execution_count": 65,
   "metadata": {
    "collapsed": true
   },
   "outputs": [],
   "source": [
    "import flask"
   ]
  },
  {
   "cell_type": "code",
   "execution_count": 90,
   "metadata": {},
   "outputs": [
    {
     "ename": "IndentationError",
     "evalue": "unexpected indent (<ipython-input-90-b45e781d5a02>, line 4)",
     "output_type": "error",
     "traceback": [
      "\u001b[1;36m  File \u001b[1;32m\"<ipython-input-90-b45e781d5a02>\"\u001b[1;36m, line \u001b[1;32m4\u001b[0m\n\u001b[1;33m    for i in range(num):\u001b[0m\n\u001b[1;37m    ^\u001b[0m\n\u001b[1;31mIndentationError\u001b[0m\u001b[1;31m:\u001b[0m unexpected indent\n"
     ]
    }
   ],
   "source": [
    "v1 = {}\n",
    "for i in range(num):\n",
    "    print('i2',i)\n",
    "    for i in range(num):\n",
    "        r = vs[i]\n",
    "        print('i',i)\n",
    "        print('r',r)\n",
    "        #v1['v'] = r\n",
    "        v1.update({v:r})\n",
    "print(v1)"
   ]
  },
  {
   "cell_type": "code",
   "execution_count": 97,
   "metadata": {},
   "outputs": [
    {
     "name": "stdout",
     "output_type": "stream",
     "text": [
      "i 0\n",
      "r (1\n"
     ]
    },
    {
     "ename": "TypeError",
     "evalue": "must be str, not int",
     "output_type": "error",
     "traceback": [
      "\u001b[1;31m---------------------------------------------------------------------------\u001b[0m",
      "\u001b[1;31mTypeError\u001b[0m                                 Traceback (most recent call last)",
      "\u001b[1;32m<ipython-input-97-92dcb25fdb1d>\u001b[0m in \u001b[0;36m<module>\u001b[1;34m()\u001b[0m\n\u001b[0;32m      6\u001b[0m         \u001b[0mv1\u001b[0m\u001b[1;33m.\u001b[0m\u001b[0mupdate\u001b[0m\u001b[1;33m(\u001b[0m\u001b[1;33m{\u001b[0m\u001b[0mv\u001b[0m\u001b[1;33m:\u001b[0m\u001b[0mr\u001b[0m\u001b[1;33m}\u001b[0m\u001b[1;33m)\u001b[0m\u001b[1;33m\u001b[0m\u001b[0m\n\u001b[0;32m      7\u001b[0m         \u001b[0mq\u001b[0m\u001b[1;33m=\u001b[0m \u001b[1;33m{\u001b[0m\u001b[1;33m}\u001b[0m\u001b[1;33m\u001b[0m\u001b[0m\n\u001b[1;32m----> 8\u001b[1;33m         \u001b[0mq\u001b[0m\u001b[1;33m.\u001b[0m\u001b[0mappend\u001b[0m \u001b[1;33m=\u001b[0m \u001b[1;33m{\u001b[0m\u001b[1;34m'v'\u001b[0m\u001b[1;33m+\u001b[0m\u001b[0mi\u001b[0m\u001b[1;33m:\u001b[0m\u001b[0mr\u001b[0m\u001b[1;33m}\u001b[0m\u001b[1;33m\u001b[0m\u001b[0m\n\u001b[0m\u001b[0;32m      9\u001b[0m \u001b[1;33m\u001b[0m\u001b[0m\n\u001b[0;32m     10\u001b[0m \u001b[0mprint\u001b[0m\u001b[1;33m(\u001b[0m\u001b[0mq\u001b[0m\u001b[1;33m)\u001b[0m\u001b[1;33m\u001b[0m\u001b[0m\n",
      "\u001b[1;31mTypeError\u001b[0m: must be str, not int"
     ]
    }
   ],
   "source": [
    "for i in range(num):\n",
    "        r = vs[i]\n",
    "        print('i',i)\n",
    "        print('r',r)\n",
    "        #v1['v'] = r\n",
    "        v1.update({v:r})\n",
    "        q= {}\n",
    "        q.append = {'v'+i:r}\n",
    "\n",
    "print(q)"
   ]
  },
  {
   "cell_type": "code",
   "execution_count": 9,
   "metadata": {},
   "outputs": [
    {
     "name": "stdout",
     "output_type": "stream",
     "text": [
      "['1', '2', '3', '4', '5', '6', '7', '8', '9', '10']\n"
     ]
    }
   ],
   "source": [
    "x =\"1,2,3,4,5,6,7,8,9,10\"\n",
    "y=x.split(',')\n",
    "print(y)"
   ]
  },
  {
   "cell_type": "code",
   "execution_count": 2,
   "metadata": {
    "collapsed": true
   },
   "outputs": [],
   "source": [
    "import matplotlib.pyplot as plt"
   ]
  },
  {
   "cell_type": "code",
   "execution_count": 3,
   "metadata": {
    "collapsed": true
   },
   "outputs": [],
   "source": [
    "vmin = 0\n",
    "vmax = 800\n",
    "vcc = 3300\n",
    "pw = 50\n",
    "t = 100\n",
    "a = 50\n",
    "e = 10\n",
    "l = 3\n"
   ]
  },
  {
   "cell_type": "code",
   "execution_count": 4,
   "metadata": {
    "collapsed": true
   },
   "outputs": [],
   "source": [
    "v=vmin\n",
    "while(v<vmax):\n",
    "    v = v+a\n",
    "    "
   ]
  },
  {
   "cell_type": "code",
   "execution_count": 5,
   "metadata": {
    "collapsed": true
   },
   "outputs": [],
   "source": [
    "import matplotlib.pyplot as plt"
   ]
  },
  {
   "cell_type": "code",
   "execution_count": 6,
   "metadata": {
    "collapsed": true
   },
   "outputs": [],
   "source": [
    "i = [201, 176, 327, 0, 29, 0, 0, 0, 0, 0, 0, 0, 0, 0, 0, 0, 0, 144, 120, 71, 254, 101, 0, 0, 0, 0, 0, 0, 0, 0, 74, 298, 0, 0, 0, 0, 376, 13, 335, 39, 58, 213, 15, 0, 0, 0, 0, 0, 0, 0, 0, 0, 0, 0, 0, 198, 219, 0, 0, 339, 0, 0, 323, 85, 0, 0, 0, 0, 0, 0, 348, 0, 194, 134, 13, 0, 3299, 3299, 3299, 3299, 103, 0, 246, 0, 0, 0, 0, 0, 0, 0, 138, 0, 359, 0, 145, 65, 286, 0, 0, 0, 0, 0, 0, 0, 0, 64, 0, 0, 0, 26, 252, 0, 331, 149, 215, 55, 32, 0, 0, 70, 0, 0, 0, 0, 157, 0, 0, 0, 49, 116, 31, 260, 171, 0, 12, 0, 0, 149, 0, 0, 0, 0, 0, 0, 0, 143, 0, 543, 469, 230, 0, 406, 0, 0, 0, 0, 3299, 3299, 241, 3299, 0, 119, 17, 0, 4, 468, 0, 0, 250, 219, 0, 44, 354, 0, 0, 0, 0, 0, 131, 0, 48, 0, 140, 31, 161, 267, 0, 0, 0, 0, 0, 0, 0, 0, 0, 0, 0, 61, 0, 282, 0, 95, 103, 0, 180, 0, 0, 0, 0, 0, 0, 180, 0, 0, 0, 0, 87, 191, 23, 419, 0, 0, 0, 238, 0, 0, 0, 0, 0, 0, 0, 0, 0, 283, 476, 408, 3299, 3299, 3299, 3299, 0, 90, 0, 0, 0, 0, 0, 0, 0, 0, 181, 262, 127, 0, 0, 0, 0, 0, 0, 0, 0, 362, 0, 825, 0, 138, 0, 0, 0, 166, 331, 0, 338, 0, 0, 0, 138, 0, 0, 0, 0, 0, 0, 435, 210, 183, 45, 0, 0, 0, 0, 0, 0, 0, 0, 0, 225, 84, 6, 357, 112, 319, 0, 0, 0, 0, 0, 0, 0, 0, 325, 0, 0, 51, 0, 115, 3299, 3299, 3299, 3299, 0, 0, 0, 0, 0, 0, 0, 0, 115, 0, 0, 0, 250, 181, 93, 325, 0, 0, 0, 0, 0, 348, 539, 0, 174, 237, 0, 311, 100, 0, 0, 0, 0, 0, 0, 0, 0, 0, 0, 0, 445, 365, 284, 0, 7, 0, 0, 580, 9, 0, 0, 0, 0, 0, 0, 0, 226, 190, 43, 163, 0, 0, 0, 0, 0, 0, 0, 0, 0, 0, 108, 332, 191, 323, 149, 124, 3299, 3299, 3299, 2630, 0, 0, 0, 0, 0, 40, 579, 337, 178, 212, 0, 0, 0, 0, 0, 0, 0, 0, 0, 0, 0, 241, 0, 250, 165, 114, 267, 0, 232, 0, 0, 0, 251, 0, 0, 0, 339, 163, 0, 192, 111, 0, 0, 0, 0, 0, 0, 0, 0, 0, 0, 132, 0, 212, 226, 153, 0, 0, 0, 20, 0, 0, 0, 0, 30, 173, 152, 321, 94, 324, 405, 0, 376, 0, 0, 0, 3299, 3299, 3299, 3299, 0, 396, 0, 0, 0, 0, 0, 0, 0, 0, 0, 0, 0, 0, 0, 221, 344, 61, 381, 0, 0, 0, 412, 0, 0, 0, 0, 0, 0, 78, 131, 0, 203, 0, 775, 515, 0, 0, 0, 0, 0, 0, 0, 13, 325, 269, 413, 0, 0, 0, 0, 0, 0, 0, 0, 0, 0, 0, 294, 110, 349, 0, 0, 444, 0, 0, 0, 0, 0, 0, 0, 348, 165, 241, 0, 0, 3299, 3299, 3299, 3299, 0, 0, 130, 0, 0, 0, 69, 403, 0, 0, 0, 0, 28, 110, 0, 0, 0, 608, 395, 264, 315, 0, 0, 0, 0, 0, 0, 0, 322, 0, 0, 203, 0, 34, 449, 224, 0, 0, 0, 0, 0, 0, 0, 74, 68, 203, 352, 261, 145, 186, 0, 373, 161, 0, 0, 206, 0, 0, 265, 385, 16, 148, 0, 0, 209, 125, 0, 0, 0, 572, 0, 0, 267, 91, 269, 0, 3299, 3299, 3299, 3299, 0, 0, 0, 0, 0, 337, 179, 27, 559, 0, 0, 0, 0, 0, 0, 0, 40, 135, 0, 547, 0, 0, 186, 0, 132, 0, 0, 0, 0, 0, 0, 0, 156, 244, 0, 321, 0, 335, 0, 0, 0, 0, 0, 37, 109, 337, 417, 66, 0, 0, 0, 0, 0, 0, 0, 0, 122, 0, 99, 155, 105, 0, 0, 583, 0, 0, 0, 0, 0, 0, 237, 317, 389, 0, 0, 0, 3299, 3299, 3299, 3299, 0, 12, 203, 164, 191, 269, 134, 0, 0, 0, 0, 0, 0, 0, 0, 369, 0, 129, 292, 225, 0, 0, 0, 0, 0, 0, 0, 0, 0, 587, 124, 0, 0, 0, 0, 0, 0, 0, 0, 0, 223, 307, 422, 83, 265, 0, 0, 0, 0, 0, 0, 0, 0, 41, 298, 298, 173, 0, 0, 0, 0, 0, 0, 0, 0, 0, 56, 87, 195, 157, 0, 109, 0, 0, 0, 0, 3299, 3299, 3299, 3222]\n",
    "v = [77, 0, 12, 32, 95, 9, 0, 0, 37, 47, 61, 45, 92, 121, 192, 95, 131, 198, 174, 279, 254, 277, 182, 232, 95, 244, 205, 209, 197, 228, 270, 232, 318, 264, 249, 319, 406, 320, 343, 397, 463, 445, 367, 468, 388, 360, 325, 411, 463, 469, 437, 437, 421, 437, 576, 569, 593, 539, 637, 523, 598, 559, 499, 541, 522, 599, 514, 553, 573, 621, 662, 641, 725, 757, 699, 791, 828, 882, 903, 839, 108, 0, 0, 0, 0, 0, 80, 0, 58, 26, 157, 153, 102, 112, 211, 187, 137, 242, 122, 232, 174, 193, 70, 277, 215, 229, 165, 134, 283, 282, 292, 297, 334, 302, 285, 419, 352, 360, 336, 431, 345, 372, 334, 335, 389, 308, 276, 426, 547, 532, 505, 473, 535, 559, 604, 585, 596, 572, 565, 618, 411, 553, 527, 514, 574, 688, 621, 673, 626, 626, 682, 696, 666, 672, 545, 789, 890, 865, 873, 917, 0, 12, 0, 34, 44, 65, 0, 0, 112, 2, 31, 117, 192, 0, 113, 91, 138, 37, 82, 185, 244, 154, 182, 211, 230, 313, 250, 165, 273, 211, 338, 295, 218, 261, 251, 324, 325, 442, 366, 398, 369, 375, 410, 400, 543, 444, 344, 371, 392, 431, 438, 464, 441, 509, 579, 585, 525, 644, 553, 592, 588, 547, 597, 605, 610, 543, 692, 617, 527, 609, 630, 708, 785, 764, 769, 754, 887, 912, 889, 880, 0, 72, 0, 0, 0, 0, 0, 115, 51, 93, 92, 153, 182, 162, 27, 35, 201, 222, 161, 157, 198, 232, 105, 180, 256, 315, 247, 323, 313, 273, 262, 200, 288, 250, 294, 334, 377, 286, 323, 353, 290, 403, 479, 396, 412, 435, 489, 398, 451, 518, 380, 437, 478, 530, 485, 533, 529, 534, 585, 608, 628, 641, 640, 573, 656, 617, 563, 560, 527, 514, 640, 638, 659, 689, 800, 700, 750, 856, 788, 886, 0, 0, 10, 26, 0, 0, 0, 103, 103, 143, 86, 106, 45, 128, 154, 188, 69, 50, 174, 49, 235, 129, 309, 269, 215, 190, 275, 254, 257, 241, 284, 281, 226, 303, 207, 243, 257, 230, 325, 432, 401, 428, 443, 469, 444, 389, 226, 554, 414, 431, 472, 308, 369, 449, 578, 540, 596, 567, 630, 578, 472, 630, 566, 601, 609, 558, 508, 571, 592, 518, 689, 733, 764, 716, 712, 695, 774, 873, 920, 925, 41, 24, 0, 0, 34, 126, 57, 28, 142, 133, 155, 119, 43, 87, 48, 102, 0, 136, 86, 143, 182, 218, 182, 257, 288, 302, 243, 295, 248, 245, 135, 263, 346, 192, 270, 303, 362, 351, 358, 378, 404, 310, 279, 373, 411, 420, 373, 499, 350, 491, 523, 492, 559, 614, 608, 543, 572, 518, 501, 573, 476, 435, 514, 563, 574, 679, 631, 698, 745, 675, 664, 721, 779, 632, 669, 663, 776, 904, 719, 896, 82, 74, 0, 53, 0, 83, 0, 0, 8, 0, 64, 0, 107, 21, 113, 144, 102, 194, 131, 185, 235, 95, 164, 219, 62, 212, 269, 223, 299, 308, 439, 349, 343, 295, 387, 309, 343, 331, 377, 365, 331, 351, 423, 406, 489, 381, 467, 448, 440, 460, 425, 347, 477, 506, 460, 539, 608, 644, 637, 559, 527, 612, 592, 599, 667, 592, 579, 702, 628, 658, 733, 696, 779, 709, 779, 735, 1988, 881, 1869, 912, 5, 71, 92, 0, 93, 44, 25, 60, 85, 97, 45, 0, 99, 88, 55, 0, 0, 87, 141, 150, 252, 183, 282, 215, 65, 150, 193, 171, 263, 298, 240, 371, 381, 383, 291, 363, 418, 227, 348, 329, 282, 399, 380, 412, 415, 450, 417, 411, 429, 438, 411, 534, 489, 377, 444, 454, 505, 547, 610, 584, 659, 573, 627, 604, 657, 618, 485, 501, 656, 634, 663, 664, 660, 779, 766, 757, 858, 891, 904, 920, 0, 98, 0, 16, 93, 0, 86, 111, 106, 46, 63, 45, 91, 49, 0, 70, 104, 203, 185, 204, 250, 276, 275, 173, 268, 221, 248, 218, 211, 270, 342, 369, 328, 328, 350, 344, 263, 315, 335, 400, 272, 277, 358, 341, 423, 451, 422, 423, 416, 439, 325, 455, 439, 476, 441, 436, 538, 516, 547, 568, 624, 612, 618, 572, 582, 512, 573, 566, 618, 717, 711, 721, 779, 777, 674, 742, 883, 823, 922, 878, 0, 0, 43, 31, 6, 37, 139, 8, 45, 101, 9, 0, 24, 58, 224, 119, 109, 164, 152, 175, 205, 70, 116, 110, 219, 131, 233, 210, 262, 236, 272, 314, 254, 286, 190, 294, 339, 168, 317, 344, 345, 427, 354, 397, 426, 415, 251, 383, 405, 454, 515, 450, 535, 488, 531, 499, 505, 572, 589, 489, 411, 464, 519, 532, 509, 674, 684, 596, 676, 721, 735, 670, 675, 630, 643, 696, 807, 949, 866, 900]\n",
    "points = []\n",
    "for n in range(165):\n",
    "    x = v[n]\n",
    "    y = i[n]\n",
    "    r = (x,y)\n",
    "    #print(r)\n",
    "    points.append(r)"
   ]
  },
  {
   "cell_type": "code",
   "execution_count": 7,
   "metadata": {},
   "outputs": [
    {
     "name": "stdout",
     "output_type": "stream",
     "text": [
      "[(77, 201), (0, 176), (12, 327), (32, 0), (95, 29), (9, 0), (0, 0), (0, 0), (37, 0), (47, 0), (61, 0), (45, 0), (92, 0), (121, 0), (192, 0), (95, 0), (131, 0), (198, 144), (174, 120), (279, 71), (254, 254), (277, 101), (182, 0), (232, 0), (95, 0), (244, 0), (205, 0), (209, 0), (197, 0), (228, 0), (270, 74), (232, 298), (318, 0), (264, 0), (249, 0), (319, 0), (406, 376), (320, 13), (343, 335), (397, 39), (463, 58), (445, 213), (367, 15), (468, 0), (388, 0), (360, 0), (325, 0), (411, 0), (463, 0), (469, 0), (437, 0), (437, 0), (421, 0), (437, 0), (576, 0), (569, 198), (593, 219), (539, 0), (637, 0), (523, 339), (598, 0), (559, 0), (499, 323), (541, 85), (522, 0), (599, 0), (514, 0), (553, 0), (573, 0), (621, 0), (662, 348), (641, 0), (725, 194), (757, 134), (699, 13), (791, 0), (828, 3299), (882, 3299), (903, 3299), (839, 3299), (108, 103), (0, 0), (0, 246), (0, 0), (0, 0), (0, 0), (80, 0), (0, 0), (58, 0), (26, 0), (157, 138), (153, 0), (102, 359), (112, 0), (211, 145), (187, 65), (137, 286), (242, 0), (122, 0), (232, 0), (174, 0), (193, 0), (70, 0), (277, 0), (215, 0), (229, 64), (165, 0), (134, 0), (283, 0), (282, 26), (292, 252), (297, 0), (334, 331), (302, 149), (285, 215), (419, 55), (352, 32), (360, 0), (336, 0), (431, 70), (345, 0), (372, 0), (334, 0), (335, 0), (389, 157), (308, 0), (276, 0), (426, 0), (547, 49), (532, 116), (505, 31), (473, 260), (535, 171), (559, 0), (604, 12), (585, 0), (596, 0), (572, 149), (565, 0), (618, 0), (411, 0), (553, 0), (527, 0), (514, 0), (574, 0), (688, 143), (621, 0), (673, 543), (626, 469), (626, 230), (682, 0), (696, 406), (666, 0), (672, 0), (545, 0), (789, 0), (890, 3299), (865, 3299), (873, 241), (917, 3299), (0, 0), (12, 119), (0, 17), (34, 0), (44, 4)]\n"
     ]
    }
   ],
   "source": [
    "print(points)"
   ]
  },
  {
   "cell_type": "code",
   "execution_count": 11,
   "metadata": {},
   "outputs": [
    {
     "data": {
      "image/png": "[encoded data removed]",
      "text/plain": [
       "<matplotlib.figure.Figure at 0x2b3c4348630>"
      ]
     },
     "metadata": {},
     "output_type": "display_data"
    }
   ],
   "source": [
    "plt.plot(v,i)\n",
    "plt.show()"
   ]
  },
  {
   "cell_type": "code",
   "execution_count": 1,
   "metadata": {
    "collapsed": true
   },
   "outputs": [],
   "source": [
    "import csv"
   ]
  },
  {
   "cell_type": "code",
   "execution_count": null,
   "metadata": {
    "collapsed": true
   },
   "outputs": [],
   "source": [
    "with open(exp51.csv)"
   ]
  }
 ],
 "metadata": {
  "kernelspec": {
   "display_name": "Python 3",
   "language": "python",
   "name": "python3"
  },
  "language_info": {
   "codemirror_mode": {
    "name": "ipython",
    "version": 3
   },
   "file_extension": ".py",
   "mimetype": "text/x-python",
   "name": "python",
   "nbconvert_exporter": "python",
   "pygments_lexer": "ipython3",
   "version": "3.6.3"
  }
 },
 "nbformat": 4,
 "nbformat_minor": 2
}
