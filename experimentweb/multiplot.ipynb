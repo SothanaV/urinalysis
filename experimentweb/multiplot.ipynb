{
 "cells": [
  {
   "cell_type": "code",
   "execution_count": 14,
   "metadata": {
    "collapsed": true
   },
   "outputs": [],
   "source": [
    "%matplotlib inline\n",
    "import pandas as pd\n",
    "import numpy as np\n",
    "import matplotlib.pyplot as plt\n",
    "import matplotlib.patches as mpatches\n",
    "\n",
    "from sklearn.isotonic import IsotonicRegression\n",
    "from sklearn.pipeline import make_pipeline\n",
    "from sklearn.ensemble import RandomForestRegressor\n",
    "from sklearn.preprocessing import PolynomialFeatures\n",
    "from scipy.ndimage.filters import gaussian_filter\n",
    "\n",
    "from app.models import ExperimentResult"
   ]
  },
  {
   "cell_type": "code",
   "execution_count": 157,
   "metadata": {
    "collapsed": true
   },
   "outputs": [],
   "source": [
    "# targetid = range(932, 943)\n",
    "targetid = range(954, 958)\n",
    "targetid = [954]"
   ]
  },
  {
   "cell_type": "code",
   "execution_count": 158,
   "metadata": {
    "collapsed": true
   },
   "outputs": [],
   "source": [
    "qs = ExperimentResult.objects.filter(pk__in=targetid).all()"
   ]
  },
  {
   "cell_type": "code",
   "execution_count": 159,
   "metadata": {},
   "outputs": [
    {
     "data": {
      "text/plain": [
       "800"
      ]
     },
     "execution_count": 159,
     "metadata": {},
     "output_type": "execute_result"
    }
   ],
   "source": [
    "inst = ExperimentResult.objects.get(pk=925)\n",
    "len(inst.get_i())"
   ]
  },
  {
   "cell_type": "code",
   "execution_count": 160,
   "metadata": {
    "collapsed": true
   },
   "outputs": [],
   "source": [
    "def inner(inst):\n",
    "    i = inst.get_i()\n",
    "    v = inst.get_v()\n",
    "    df = pd.DataFrame.from_dict({'i': i, 'v': v})\n",
    "#     df=df[df.i<70]\n",
    "#     df=df[df.v<700]\n",
    "#     X = df.v.values.reshape([df.v.shape[0], 1])\n",
    "#     #X = df.v.values.reshape([df.v.shape[0], 1])\n",
    "#     Y = df.i\n",
    "#     n = 1000\n",
    "#     # model = IsotonicRegression().fit(X, Y)\n",
    "#     model = make_pipeline(\\\n",
    "#                 PolynomialFeatures(5), \n",
    "#                 RandomForestRegressor(n_estimators=100, min_samples_split=10)\\\n",
    "#             ).fit(X, Y)\n",
    "#     X_ = np.linspace(df.v.min(), df.v.max(), n)\n",
    "#     mdf = pd.DataFrame.from_dict({'v':X_, 'i':model.predict(X_.reshape(-1, 1))})\n",
    "# #     mdf.i = gaussian_filter(mdf.i, sigma=20)\n",
    "#     mdf = mdf.round(2)\n",
    "#     mdf.v = (mdf.v/4095)*5.0 \n",
    "#     mdf.i = ((mdf.i/4095)*5.0)/(33*10^5)\n",
    "#     mdf.v = round(mdf.v,2)\n",
    "\n",
    "    mdf = df.groupby(['v'], as_index=False).mean()\n",
    "    return mdf"
   ]
  },
  {
   "cell_type": "code",
   "execution_count": 161,
   "metadata": {},
   "outputs": [
    {
     "data": {
      "text/plain": [
       "<matplotlib.legend.Legend at 0x21ae4335358>"
      ]
     },
     "execution_count": 161,
     "metadata": {},
     "output_type": "execute_result"
    },
    {
     "data": {
      "image/png": "[encoded data removed]",
      "text/plain": [
       "<matplotlib.figure.Figure at 0x21ae4010eb8>"
      ]
     },
     "metadata": {},
     "output_type": "display_data"
    }
   ],
   "source": [
    "fig, ax = plt.subplots()\n",
    "fig.set_size_inches(18.5, 10.5)\n",
    "lgds = list()\n",
    "colors = 'rgboky'\n",
    "nc = len(colors)\n",
    "for i, inst in enumerate(qs):\n",
    "    df = inner(inst)\n",
    "    x_ = df.v\n",
    "    y_ = df.i\n",
    "#     c = colors[i%nc]\n",
    "#     patch = mpatches.Patch(label=inst.id, color=)\n",
    "#     lgds.append( patch )\n",
    "#     ax.plot(x_, y_, 'C{}'.format(i%9), label=inst.id)\n",
    "    ax.scatter(x_, y_, label=inst.id)\n",
    "ax.legend()\n"
   ]
  },
  {
   "cell_type": "code",
   "execution_count": null,
   "metadata": {},
   "outputs": [],
   "source": []
  },
  {
   "cell_type": "code",
   "execution_count": null,
   "metadata": {
    "collapsed": true
   },
   "outputs": [],
   "source": []
  }
 ],
 "metadata": {
  "kernelspec": {
   "display_name": "Django Shell-Plus",
   "language": "python",
   "name": "django_extensions"
  },
  "language_info": {
   "codemirror_mode": {
    "name": "ipython",
    "version": 3
   },
   "file_extension": ".py",
   "mimetype": "text/x-python",
   "name": "python",
   "nbconvert_exporter": "python",
   "pygments_lexer": "ipython3",
   "version": "3.6.3"
  }
 },
 "nbformat": 4,
 "nbformat_minor": 2
}
